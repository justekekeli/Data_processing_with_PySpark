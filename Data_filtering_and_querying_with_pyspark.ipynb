{
 "cells": [
  {
   "cell_type": "code",
   "execution_count": 1,
   "id": "f623ed08",
   "metadata": {},
   "outputs": [],
   "source": [
    "import findspark\n",
    "findspark.find()\n",
    "findspark.init()\n",
    "from pyspark.sql import SparkSession"
   ]
  },
  {
   "cell_type": "code",
   "execution_count": 2,
   "id": "456045b0",
   "metadata": {},
   "outputs": [
    {
     "name": "stdout",
     "output_type": "stream",
     "text": [
      "23/02/17 08:06:25 WARN Utils: Your hostname, kekeli-VirtualBox resolves to a loopback address: 127.0.1.1; using 10.0.2.15 instead (on interface enp0s3)\n",
      "23/02/17 08:06:25 WARN Utils: Set SPARK_LOCAL_IP if you need to bind to another address\n"
     ]
    },
    {
     "name": "stderr",
     "output_type": "stream",
     "text": [
      "Setting default log level to \"WARN\".\n",
      "To adjust logging level use sc.setLogLevel(newLevel). For SparkR, use setLogLevel(newLevel).\n"
     ]
    },
    {
     "name": "stdout",
     "output_type": "stream",
     "text": [
      "23/02/17 08:06:27 WARN NativeCodeLoader: Unable to load native-hadoop library for your platform... using builtin-java classes where applicable\n"
     ]
    }
   ],
   "source": [
    "spark = SparkSession.builder.getOrCreate()"
   ]
  },
  {
   "cell_type": "code",
   "execution_count": 3,
   "id": "ff8a9091",
   "metadata": {},
   "outputs": [
    {
     "name": "stderr",
     "output_type": "stream",
     "text": [
      "                                                                                \r"
     ]
    },
    {
     "data": {
      "text/plain": [
       "DataFrame[country_name: string, id: bigint, latitude: double, longitude: double, sex: string]"
      ]
     },
     "execution_count": 3,
     "metadata": {},
     "output_type": "execute_result"
    }
   ],
   "source": [
    "agents = spark.read.json(\"agents.json\")\n",
    "agents.cache()\n",
    "agents"
   ]
  },
  {
   "cell_type": "code",
   "execution_count": 4,
   "id": "adcd3a51",
   "metadata": {
    "collapsed": true
   },
   "outputs": [
    {
     "name": "stderr",
     "output_type": "stream",
     "text": [
      "                                                                                \r"
     ]
    },
    {
     "name": "stdout",
     "output_type": "stream",
     "text": [
      "+--------------------+----------+------------------+-------------------+------+\n",
      "|        country_name|        id|          latitude|          longitude|   sex|\n",
      "+--------------------+----------+------------------+-------------------+------+\n",
      "|               China| 227417393| 33.15219798270325| 100.85840672174572|  Male|\n",
      "|               Haiti|6821129477|19.325567983697297| -72.43795260265814|Female|\n",
      "|               India|2078667700|23.645271492037235|  80.85636526088884|Female|\n",
      "|               China| 477556555| 33.45864668881662|  93.33604038078953|Female|\n",
      "|               India|1379059984|28.816938290678692|   80.7728698035823|Female|\n",
      "|               India|2278934249|24.223974351280358|  80.14372690674512|  Male|\n",
      "|         Philippines|4380736204|12.409991630883784| 122.75874146810197|Female|\n",
      "|               India|1375733494|22.385712662257426|  77.90320433636231|Female|\n",
      "|             Nigeria|3693807307| 9.967458870426357|  7.562942449523648|Female|\n",
      "|                Mali|6552202234|16.882575147323337| -3.949079041016242|Female|\n",
      "|            Thailand|5057542320|13.501463223632582| 103.05981834176352|  Male|\n",
      "|               India|1806935868|  18.4459850484637|  74.28181188756791|  Male|\n",
      "|               China| 265404548|29.447948266668902| 106.56441719305467|Female|\n",
      "|               China|1272365006|35.450817753169304| 106.05970256662503|  Male|\n",
      "|            Pakistan|3427393483|29.930865126652122|  70.15711512834791|Female|\n",
      "|Central African R...|7029557128|  7.01006931921262| 21.005933006443826|Female|\n",
      "|               Haiti|6826219119|18.940384961447766| -72.32688350214578|  Male|\n",
      "|            Tanzania|5357138381|-5.983046108539422|  34.80683011234468|  Male|\n",
      "|               Ghana|6186906042| 7.969120948577613|-1.9820137477590403|Female|\n",
      "|              Brazil|3275490483|-9.425790844213656| -55.88198203024498|  Male|\n",
      "+--------------------+----------+------------------+-------------------+------+\n",
      "only showing top 20 rows\n",
      "\n"
     ]
    }
   ],
   "source": [
    "agents.show()\n"
   ]
  },
  {
   "cell_type": "code",
   "execution_count": 5,
   "id": "168a06a2",
   "metadata": {
    "collapsed": true
   },
   "outputs": [
    {
     "name": "stdout",
     "output_type": "stream",
     "text": [
      "+------------+----------+------------------+------------------+------+\n",
      "|country_name|        id|          latitude|         longitude|   sex|\n",
      "+------------+----------+------------------+------------------+------+\n",
      "|       China| 227417393| 33.15219798270325|100.85840672174572|  Male|\n",
      "|       Haiti|6821129477|19.325567983697297|-72.43795260265814|Female|\n",
      "|       India|2078667700|23.645271492037235| 80.85636526088884|Female|\n",
      "|       China| 477556555| 33.45864668881662| 93.33604038078953|Female|\n",
      "|       India|1379059984|28.816938290678692|  80.7728698035823|Female|\n",
      "+------------+----------+------------------+------------------+------+\n",
      "\n"
     ]
    }
   ],
   "source": [
    "agents.limit(5).show()"
   ]
  },
  {
   "cell_type": "code",
   "execution_count": 6,
   "id": "4245739d",
   "metadata": {
    "collapsed": true
   },
   "outputs": [
    {
     "data": {
      "text/plain": [
       "[Row(country_name='China', id=227417393, latitude=33.15219798270325, longitude=100.85840672174572, sex='Male'),\n",
       " Row(country_name='Haiti', id=6821129477, latitude=19.325567983697297, longitude=-72.43795260265814, sex='Female'),\n",
       " Row(country_name='India', id=2078667700, latitude=23.645271492037235, longitude=80.85636526088884, sex='Female'),\n",
       " Row(country_name='China', id=477556555, latitude=33.45864668881662, longitude=93.33604038078953, sex='Female'),\n",
       " Row(country_name='India', id=1379059984, latitude=28.816938290678692, longitude=80.7728698035823, sex='Female')]"
      ]
     },
     "execution_count": 6,
     "metadata": {},
     "output_type": "execute_result"
    }
   ],
   "source": [
    "agents.take(5)"
   ]
  },
  {
   "cell_type": "code",
   "execution_count": 7,
   "id": "41fac663",
   "metadata": {},
   "outputs": [
    {
     "data": {
      "text/plain": [
       "['country_name', 'id', 'latitude', 'longitude', 'sex']"
      ]
     },
     "execution_count": 7,
     "metadata": {},
     "output_type": "execute_result"
    }
   ],
   "source": [
    "agents.columns"
   ]
  },
  {
   "cell_type": "code",
   "execution_count": 8,
   "id": "c318dfb2",
   "metadata": {},
   "outputs": [
    {
     "data": {
      "text/plain": [
       "StructType([StructField('country_name', StringType(), True), StructField('id', LongType(), True), StructField('latitude', DoubleType(), True), StructField('longitude', DoubleType(), True), StructField('sex', StringType(), True)])"
      ]
     },
     "execution_count": 8,
     "metadata": {},
     "output_type": "execute_result"
    }
   ],
   "source": [
    "agents.schema"
   ]
  },
  {
   "cell_type": "code",
   "execution_count": 9,
   "id": "6ff2f78e",
   "metadata": {},
   "outputs": [
    {
     "name": "stdout",
     "output_type": "stream",
     "text": [
      "root\n",
      " |-- country_name: string (nullable = true)\n",
      " |-- id: long (nullable = true)\n",
      " |-- latitude: double (nullable = true)\n",
      " |-- longitude: double (nullable = true)\n",
      " |-- sex: string (nullable = true)\n",
      "\n"
     ]
    }
   ],
   "source": [
    "agents.printSchema()"
   ]
  },
  {
   "cell_type": "code",
   "execution_count": 10,
   "id": "01f3f837",
   "metadata": {
    "collapsed": true
   },
   "outputs": [
    {
     "name": "stdout",
     "output_type": "stream",
     "text": [
      "+----------+\n",
      "|        id|\n",
      "+----------+\n",
      "| 227417393|\n",
      "|6821129477|\n",
      "|2078667700|\n",
      "| 477556555|\n",
      "|1379059984|\n",
      "|2278934249|\n",
      "|4380736204|\n",
      "|1375733494|\n",
      "|3693807307|\n",
      "|6552202234|\n",
      "|5057542320|\n",
      "|1806935868|\n",
      "| 265404548|\n",
      "|1272365006|\n",
      "|3427393483|\n",
      "|7029557128|\n",
      "|6826219119|\n",
      "|5357138381|\n",
      "|6186906042|\n",
      "|3275490483|\n",
      "+----------+\n",
      "only showing top 20 rows\n",
      "\n"
     ]
    }
   ],
   "source": [
    "agents.select(\"id\").show()"
   ]
  },
  {
   "cell_type": "code",
   "execution_count": 11,
   "id": "30def764",
   "metadata": {
    "collapsed": true
   },
   "outputs": [
    {
     "name": "stdout",
     "output_type": "stream",
     "text": [
      "+--------------------+------------------+-------------------+------+\n",
      "|        country_name|          latitude|          longitude|   sex|\n",
      "+--------------------+------------------+-------------------+------+\n",
      "|               China| 33.15219798270325| 100.85840672174572|  Male|\n",
      "|               Haiti|19.325567983697297| -72.43795260265814|Female|\n",
      "|               India|23.645271492037235|  80.85636526088884|Female|\n",
      "|               China| 33.45864668881662|  93.33604038078953|Female|\n",
      "|               India|28.816938290678692|   80.7728698035823|Female|\n",
      "|               India|24.223974351280358|  80.14372690674512|  Male|\n",
      "|         Philippines|12.409991630883784| 122.75874146810197|Female|\n",
      "|               India|22.385712662257426|  77.90320433636231|Female|\n",
      "|             Nigeria| 9.967458870426357|  7.562942449523648|Female|\n",
      "|                Mali|16.882575147323337| -3.949079041016242|Female|\n",
      "|            Thailand|13.501463223632582| 103.05981834176352|  Male|\n",
      "|               India|  18.4459850484637|  74.28181188756791|  Male|\n",
      "|               China|29.447948266668902| 106.56441719305467|Female|\n",
      "|               China|35.450817753169304| 106.05970256662503|  Male|\n",
      "|            Pakistan|29.930865126652122|  70.15711512834791|Female|\n",
      "|Central African R...|  7.01006931921262| 21.005933006443826|Female|\n",
      "|               Haiti|18.940384961447766| -72.32688350214578|  Male|\n",
      "|            Tanzania|-5.983046108539422|  34.80683011234468|  Male|\n",
      "|               Ghana| 7.969120948577613|-1.9820137477590403|Female|\n",
      "|              Brazil|-9.425790844213656| -55.88198203024498|  Male|\n",
      "+--------------------+------------------+-------------------+------+\n",
      "only showing top 20 rows\n",
      "\n"
     ]
    }
   ],
   "source": [
    "agents.drop(\"id\").show()"
   ]
  },
  {
   "cell_type": "code",
   "execution_count": 12,
   "id": "d983276b",
   "metadata": {
    "collapsed": true
   },
   "outputs": [
    {
     "name": "stdout",
     "output_type": "stream",
     "text": [
      "+--------------------+------------------+-------------------+------+\n",
      "|        country_name|          latitude|          longitude|   sex|\n",
      "+--------------------+------------------+-------------------+------+\n",
      "|               China| 33.15219798270325| 100.85840672174572|  Male|\n",
      "|               Haiti|19.325567983697297| -72.43795260265814|Female|\n",
      "|               India|23.645271492037235|  80.85636526088884|Female|\n",
      "|               China| 33.45864668881662|  93.33604038078953|Female|\n",
      "|               India|28.816938290678692|   80.7728698035823|Female|\n",
      "|               India|24.223974351280358|  80.14372690674512|  Male|\n",
      "|         Philippines|12.409991630883784| 122.75874146810197|Female|\n",
      "|               India|22.385712662257426|  77.90320433636231|Female|\n",
      "|             Nigeria| 9.967458870426357|  7.562942449523648|Female|\n",
      "|                Mali|16.882575147323337| -3.949079041016242|Female|\n",
      "|            Thailand|13.501463223632582| 103.05981834176352|  Male|\n",
      "|               India|  18.4459850484637|  74.28181188756791|  Male|\n",
      "|               China|29.447948266668902| 106.56441719305467|Female|\n",
      "|               China|35.450817753169304| 106.05970256662503|  Male|\n",
      "|            Pakistan|29.930865126652122|  70.15711512834791|Female|\n",
      "|Central African R...|  7.01006931921262| 21.005933006443826|Female|\n",
      "|               Haiti|18.940384961447766| -72.32688350214578|  Male|\n",
      "|            Tanzania|-5.983046108539422|  34.80683011234468|  Male|\n",
      "|               Ghana| 7.969120948577613|-1.9820137477590403|Female|\n",
      "|              Brazil|-9.425790844213656| -55.88198203024498|  Male|\n",
      "+--------------------+------------------+-------------------+------+\n",
      "only showing top 20 rows\n",
      "\n"
     ]
    }
   ],
   "source": [
    "agents.select(\"country_name\", \"latitude\", \"longitude\", \"sex\").show()"
   ]
  },
  {
   "cell_type": "code",
   "execution_count": 13,
   "id": "2546f7bc",
   "metadata": {},
   "outputs": [],
   "source": [
    "from pyspark.sql.functions import count "
   ]
  },
  {
   "cell_type": "code",
   "execution_count": 14,
   "id": "2c0d5bb6",
   "metadata": {},
   "outputs": [
    {
     "data": {
      "text/plain": [
       "10000"
      ]
     },
     "execution_count": 14,
     "metadata": {},
     "output_type": "execute_result"
    }
   ],
   "source": [
    "agents.count()"
   ]
  },
  {
   "cell_type": "code",
   "execution_count": 15,
   "id": "65d937c2",
   "metadata": {},
   "outputs": [
    {
     "data": {
      "text/plain": [
       "94"
      ]
     },
     "execution_count": 15,
     "metadata": {},
     "output_type": "execute_result"
    }
   ],
   "source": [
    "agents.filter(agents.country_name == 'France').count()"
   ]
  },
  {
   "cell_type": "code",
   "execution_count": 16,
   "id": "603a9b3e",
   "metadata": {
    "collapsed": true
   },
   "outputs": [
    {
     "data": {
      "text/plain": [
       "[Row(country_name='Afghanistan', count=49),\n",
       " Row(country_name='Albania', count=7),\n",
       " Row(country_name='Algeria', count=54),\n",
       " Row(country_name='Angola', count=28),\n",
       " Row(country_name='Argentina', count=52),\n",
       " Row(country_name='Armenia', count=4),\n",
       " Row(country_name='Australia', count=33),\n",
       " Row(country_name='Austria', count=16),\n",
       " Row(country_name='Azerbaijan', count=18),\n",
       " Row(country_name='Bahrain', count=2),\n",
       " Row(country_name='Bangladesh', count=227),\n",
       " Row(country_name='Belarus', count=11),\n",
       " Row(country_name='Belgium', count=11),\n",
       " Row(country_name='Benin', count=10),\n",
       " Row(country_name='Bhutan', count=3),\n",
       " Row(country_name='Bolivia', count=9),\n",
       " Row(country_name='Bosnia and Herzegovina', count=9),\n",
       " Row(country_name='Botswana', count=1),\n",
       " Row(country_name='Brazil', count=264),\n",
       " Row(country_name='Bulgaria', count=9),\n",
       " Row(country_name='Burkina Faso', count=19),\n",
       " Row(country_name='Burma', count=71),\n",
       " Row(country_name='Burundi', count=24),\n",
       " Row(country_name='Cabo Verde', count=1),\n",
       " Row(country_name='Cambodia', count=17),\n",
       " Row(country_name='Cameroon', count=30),\n",
       " Row(country_name='Canada', count=46),\n",
       " Row(country_name='Central African Republic', count=5),\n",
       " Row(country_name='Chad', count=20),\n",
       " Row(country_name='Chile', count=15),\n",
       " Row(country_name='China', count=1812),\n",
       " Row(country_name='Colombia', count=70),\n",
       " Row(country_name='Comoros', count=2),\n",
       " Row(country_name='Congo, Democratic Republic of the', count=117),\n",
       " Row(country_name='Congo, Republic of the', count=6),\n",
       " Row(country_name='Costa Rica', count=5),\n",
       " Row(country_name=\"Cote d'Ivoire\", count=30),\n",
       " Row(country_name='Croatia', count=8),\n",
       " Row(country_name='Cuba', count=11),\n",
       " Row(country_name='Cyprus', count=1),\n",
       " Row(country_name='Czech Republic', count=24),\n",
       " Row(country_name='Denmark', count=8),\n",
       " Row(country_name='Djibouti', count=3),\n",
       " Row(country_name='Dominican Republic', count=15),\n",
       " Row(country_name='Ecuador', count=25),\n",
       " Row(country_name='Egypt', count=110),\n",
       " Row(country_name='El Salvador', count=9),\n",
       " Row(country_name='Equatorial Guinea', count=1),\n",
       " Row(country_name='Eritrea', count=8),\n",
       " Row(country_name='Estonia', count=1),\n",
       " Row(country_name='Ethiopia', count=120),\n",
       " Row(country_name='Finland', count=11),\n",
       " Row(country_name='France', count=94),\n",
       " Row(country_name='French Polynesia', count=1),\n",
       " Row(country_name='Gambia, The', count=1),\n",
       " Row(country_name='Gaza Strip', count=2),\n",
       " Row(country_name='Georgia', count=7),\n",
       " Row(country_name='Germany', count=114),\n",
       " Row(country_name='Ghana', count=42),\n",
       " Row(country_name='Greece', count=12),\n",
       " Row(country_name='Guatemala', count=20),\n",
       " Row(country_name='Guinea', count=15),\n",
       " Row(country_name='Guinea-Bissau', count=2),\n",
       " Row(country_name='Guyana', count=2),\n",
       " Row(country_name='Haiti', count=14),\n",
       " Row(country_name='Honduras', count=18),\n",
       " Row(country_name='Hong Kong', count=6),\n",
       " Row(country_name='Hungary', count=9),\n",
       " Row(country_name='India', count=1733),\n",
       " Row(country_name='Indonesia', count=336),\n",
       " Row(country_name='Iran', count=119),\n",
       " Row(country_name='Iraq', count=46),\n",
       " Row(country_name='Ireland', count=5),\n",
       " Row(country_name='Israel', count=6),\n",
       " Row(country_name='Italy', count=59),\n",
       " Row(country_name='Jamaica', count=3),\n",
       " Row(country_name='Japan', count=171),\n",
       " Row(country_name='Jordan', count=16),\n",
       " Row(country_name='Kazakhstan', count=29),\n",
       " Row(country_name='Kenya', count=59),\n",
       " Row(country_name='Korea, North', count=47),\n",
       " Row(country_name='Korea, South', count=74),\n",
       " Row(country_name='Kosovo', count=1),\n",
       " Row(country_name='Kuwait', count=2),\n",
       " Row(country_name='Kyrgyzstan', count=10),\n",
       " Row(country_name='Laos', count=6),\n",
       " Row(country_name='Latvia', count=3),\n",
       " Row(country_name='Lebanon', count=3),\n",
       " Row(country_name='Lesotho', count=1),\n",
       " Row(country_name='Liberia', count=5),\n",
       " Row(country_name='Libya', count=9),\n",
       " Row(country_name='Lithuania', count=3),\n",
       " Row(country_name='Macau', count=1),\n",
       " Row(country_name='Macedonia', count=3),\n",
       " Row(country_name='Madagascar', count=25),\n",
       " Row(country_name='Malawi', count=30),\n",
       " Row(country_name='Malaysia', count=54),\n",
       " Row(country_name='Mali', count=25),\n",
       " Row(country_name='Mauritania', count=6),\n",
       " Row(country_name='Mauritius', count=1),\n",
       " Row(country_name='Mexico', count=183),\n",
       " Row(country_name='Moldova', count=5),\n",
       " Row(country_name='Mongolia', count=6),\n",
       " Row(country_name='Montenegro', count=1),\n",
       " Row(country_name='Morocco', count=35),\n",
       " Row(country_name='Mozambique', count=39),\n",
       " Row(country_name='Namibia', count=4),\n",
       " Row(country_name='Nepal', count=32),\n",
       " Row(country_name='Netherlands', count=34),\n",
       " Row(country_name='New Zealand', count=5),\n",
       " Row(country_name='Nicaragua', count=12),\n",
       " Row(country_name='Niger', count=28),\n",
       " Row(country_name='Nigeria', count=255),\n",
       " Row(country_name='Norway', count=3),\n",
       " Row(country_name='Oman', count=6),\n",
       " Row(country_name='Pakistan', count=315),\n",
       " Row(country_name='Panama', count=7),\n",
       " Row(country_name='Papua New Guinea', count=13),\n",
       " Row(country_name='Paraguay', count=9),\n",
       " Row(country_name='Peru', count=41),\n",
       " Row(country_name='Philippines', count=160),\n",
       " Row(country_name='Poland', count=50),\n",
       " Row(country_name='Portugal', count=12),\n",
       " Row(country_name='Puerto Rico', count=4),\n",
       " Row(country_name='Qatar', count=3),\n",
       " Row(country_name='Romania', count=29),\n",
       " Row(country_name='Russia', count=185),\n",
       " Row(country_name='Rwanda', count=20),\n",
       " Row(country_name='Saudi Arabia', count=54),\n",
       " Row(country_name='Senegal', count=17),\n",
       " Row(country_name='Serbia', count=9),\n",
       " Row(country_name='Sierra Leone', count=6),\n",
       " Row(country_name='Singapore', count=8),\n",
       " Row(country_name='Slovakia', count=7),\n",
       " Row(country_name='Slovenia', count=2),\n",
       " Row(country_name='Somalia', count=13),\n",
       " Row(country_name='South Africa', count=69),\n",
       " Row(country_name='South Sudan', count=26),\n",
       " Row(country_name='Spain', count=61),\n",
       " Row(country_name='Sri Lanka', count=43),\n",
       " Row(country_name='Sudan', count=60),\n",
       " Row(country_name='Suriname', count=2),\n",
       " Row(country_name='Swaziland', count=1),\n",
       " Row(country_name='Sweden', count=18),\n",
       " Row(country_name='Switzerland', count=12),\n",
       " Row(country_name='Syria', count=35),\n",
       " Row(country_name='Taiwan', count=33),\n",
       " Row(country_name='Tajikistan', count=13),\n",
       " Row(country_name='Tanzania', count=63),\n",
       " Row(country_name='Thailand', count=111),\n",
       " Row(country_name='Timor-Leste', count=1),\n",
       " Row(country_name='Togo', count=6),\n",
       " Row(country_name='Trinidad and Tobago', count=1),\n",
       " Row(country_name='Tunisia', count=8),\n",
       " Row(country_name='Turkey', count=103),\n",
       " Row(country_name='Turkmenistan', count=9),\n",
       " Row(country_name='Uganda', count=56),\n",
       " Row(country_name='Ukraine', count=48),\n",
       " Row(country_name='United Arab Emirates', count=9),\n",
       " Row(country_name='United Kingdom', count=104),\n",
       " Row(country_name='United States', count=461),\n",
       " Row(country_name='Uruguay', count=5),\n",
       " Row(country_name='Uzbekistan', count=47),\n",
       " Row(country_name='Venezuela', count=44),\n",
       " Row(country_name='Vietnam', count=134),\n",
       " Row(country_name='Yemen', count=43),\n",
       " Row(country_name='Zambia', count=24),\n",
       " Row(country_name='Zimbabwe', count=26)]"
      ]
     },
     "execution_count": 16,
     "metadata": {},
     "output_type": "execute_result"
    }
   ],
   "source": [
    "sorted(agents.groupby(agents.country_name).count().collect())"
   ]
  },
  {
   "cell_type": "markdown",
   "id": "b248b385",
   "metadata": {},
   "source": [
    "Question 8:\n",
    "<pre>\n",
    "Individual1,France\n",
    "Individual2,USA  ---- GroupBy---> France,[Individual1]\n",
    "Individual3,USA             USA,[Individual2,Individual3 ]\n",
    "\n",
    "------Count ---> France,1\n",
    "                 USA,2\n",
    "</pre>"
   ]
  },
  {
   "cell_type": "code",
   "execution_count": 17,
   "id": "b7a1ddc1",
   "metadata": {},
   "outputs": [],
   "source": [
    "agents.createTempView(\"agents_table\")"
   ]
  },
  {
   "cell_type": "code",
   "execution_count": 19,
   "id": "1daf3cc0",
   "metadata": {
    "collapsed": true
   },
   "outputs": [
    {
     "name": "stdout",
     "output_type": "stream",
     "text": [
      "+--------------------+----------+------------------+-------------------+------+\n",
      "|        country_name|        id|          latitude|          longitude|   sex|\n",
      "+--------------------+----------+------------------+-------------------+------+\n",
      "|               China| 227417393| 33.15219798270325| 100.85840672174572|  Male|\n",
      "|               Haiti|6821129477|19.325567983697297| -72.43795260265814|Female|\n",
      "|               India|2078667700|23.645271492037235|  80.85636526088884|Female|\n",
      "|               China| 477556555| 33.45864668881662|  93.33604038078953|Female|\n",
      "|               India|1379059984|28.816938290678692|   80.7728698035823|Female|\n",
      "|               India|2278934249|24.223974351280358|  80.14372690674512|  Male|\n",
      "|         Philippines|4380736204|12.409991630883784| 122.75874146810197|Female|\n",
      "|               India|1375733494|22.385712662257426|  77.90320433636231|Female|\n",
      "|             Nigeria|3693807307| 9.967458870426357|  7.562942449523648|Female|\n",
      "|                Mali|6552202234|16.882575147323337| -3.949079041016242|Female|\n",
      "|            Thailand|5057542320|13.501463223632582| 103.05981834176352|  Male|\n",
      "|               India|1806935868|  18.4459850484637|  74.28181188756791|  Male|\n",
      "|               China| 265404548|29.447948266668902| 106.56441719305467|Female|\n",
      "|               China|1272365006|35.450817753169304| 106.05970256662503|  Male|\n",
      "|            Pakistan|3427393483|29.930865126652122|  70.15711512834791|Female|\n",
      "|Central African R...|7029557128|  7.01006931921262| 21.005933006443826|Female|\n",
      "|               Haiti|6826219119|18.940384961447766| -72.32688350214578|  Male|\n",
      "|            Tanzania|5357138381|-5.983046108539422|  34.80683011234468|  Male|\n",
      "|               Ghana|6186906042| 7.969120948577613|-1.9820137477590403|Female|\n",
      "|              Brazil|3275490483|-9.425790844213656| -55.88198203024498|  Male|\n",
      "+--------------------+----------+------------------+-------------------+------+\n",
      "only showing top 20 rows\n",
      "\n"
     ]
    }
   ],
   "source": [
    "agents.show() # DataFrame API"
   ]
  },
  {
   "cell_type": "code",
   "execution_count": 20,
   "id": "0beb14a5",
   "metadata": {
    "collapsed": true
   },
   "outputs": [
    {
     "name": "stdout",
     "output_type": "stream",
     "text": [
      "+--------------------+----------+------------------+-------------------+------+\n",
      "|        country_name|        id|          latitude|          longitude|   sex|\n",
      "+--------------------+----------+------------------+-------------------+------+\n",
      "|               China| 227417393| 33.15219798270325| 100.85840672174572|  Male|\n",
      "|               Haiti|6821129477|19.325567983697297| -72.43795260265814|Female|\n",
      "|               India|2078667700|23.645271492037235|  80.85636526088884|Female|\n",
      "|               China| 477556555| 33.45864668881662|  93.33604038078953|Female|\n",
      "|               India|1379059984|28.816938290678692|   80.7728698035823|Female|\n",
      "|               India|2278934249|24.223974351280358|  80.14372690674512|  Male|\n",
      "|         Philippines|4380736204|12.409991630883784| 122.75874146810197|Female|\n",
      "|               India|1375733494|22.385712662257426|  77.90320433636231|Female|\n",
      "|             Nigeria|3693807307| 9.967458870426357|  7.562942449523648|Female|\n",
      "|                Mali|6552202234|16.882575147323337| -3.949079041016242|Female|\n",
      "|            Thailand|5057542320|13.501463223632582| 103.05981834176352|  Male|\n",
      "|               India|1806935868|  18.4459850484637|  74.28181188756791|  Male|\n",
      "|               China| 265404548|29.447948266668902| 106.56441719305467|Female|\n",
      "|               China|1272365006|35.450817753169304| 106.05970256662503|  Male|\n",
      "|            Pakistan|3427393483|29.930865126652122|  70.15711512834791|Female|\n",
      "|Central African R...|7029557128|  7.01006931921262| 21.005933006443826|Female|\n",
      "|               Haiti|6826219119|18.940384961447766| -72.32688350214578|  Male|\n",
      "|            Tanzania|5357138381|-5.983046108539422|  34.80683011234468|  Male|\n",
      "|               Ghana|6186906042| 7.969120948577613|-1.9820137477590403|Female|\n",
      "|              Brazil|3275490483|-9.425790844213656| -55.88198203024498|  Male|\n",
      "+--------------------+----------+------------------+-------------------+------+\n",
      "only showing top 20 rows\n",
      "\n"
     ]
    }
   ],
   "source": [
    "spark.table(\"agents_table\").show() # DataFrame API"
   ]
  },
  {
   "cell_type": "code",
   "execution_count": 21,
   "id": "c67ca5cb",
   "metadata": {
    "collapsed": true
   },
   "outputs": [
    {
     "name": "stdout",
     "output_type": "stream",
     "text": [
      "+--------------------+----------+------------------+-------------------+------+\n",
      "|        country_name|        id|          latitude|          longitude|   sex|\n",
      "+--------------------+----------+------------------+-------------------+------+\n",
      "|               China| 227417393| 33.15219798270325| 100.85840672174572|  Male|\n",
      "|               Haiti|6821129477|19.325567983697297| -72.43795260265814|Female|\n",
      "|               India|2078667700|23.645271492037235|  80.85636526088884|Female|\n",
      "|               China| 477556555| 33.45864668881662|  93.33604038078953|Female|\n",
      "|               India|1379059984|28.816938290678692|   80.7728698035823|Female|\n",
      "|               India|2278934249|24.223974351280358|  80.14372690674512|  Male|\n",
      "|         Philippines|4380736204|12.409991630883784| 122.75874146810197|Female|\n",
      "|               India|1375733494|22.385712662257426|  77.90320433636231|Female|\n",
      "|             Nigeria|3693807307| 9.967458870426357|  7.562942449523648|Female|\n",
      "|                Mali|6552202234|16.882575147323337| -3.949079041016242|Female|\n",
      "|            Thailand|5057542320|13.501463223632582| 103.05981834176352|  Male|\n",
      "|               India|1806935868|  18.4459850484637|  74.28181188756791|  Male|\n",
      "|               China| 265404548|29.447948266668902| 106.56441719305467|Female|\n",
      "|               China|1272365006|35.450817753169304| 106.05970256662503|  Male|\n",
      "|            Pakistan|3427393483|29.930865126652122|  70.15711512834791|Female|\n",
      "|Central African R...|7029557128|  7.01006931921262| 21.005933006443826|Female|\n",
      "|               Haiti|6826219119|18.940384961447766| -72.32688350214578|  Male|\n",
      "|            Tanzania|5357138381|-5.983046108539422|  34.80683011234468|  Male|\n",
      "|               Ghana|6186906042| 7.969120948577613|-1.9820137477590403|Female|\n",
      "|              Brazil|3275490483|-9.425790844213656| -55.88198203024498|  Male|\n",
      "+--------------------+----------+------------------+-------------------+------+\n",
      "only showing top 20 rows\n",
      "\n"
     ]
    }
   ],
   "source": [
    "spark.sql(\"SELECT * FROM agents_table\").show() # SQL API"
   ]
  },
  {
   "cell_type": "code",
   "execution_count": 23,
   "id": "86e29c74",
   "metadata": {
    "scrolled": true
   },
   "outputs": [
    {
     "name": "stdout",
     "output_type": "stream",
     "text": [
      "+--------+\n",
      "|count(1)|\n",
      "+--------+\n",
      "|     828|\n",
      "+--------+\n",
      "\n"
     ]
    }
   ],
   "source": [
    "spark.sql(\"SELECT COUNT(*) FROM agents_table where sex='Female' AND country_name='India'\").show() # SQL API"
   ]
  },
  {
   "cell_type": "code",
   "execution_count": 25,
   "id": "eaf9b9cc",
   "metadata": {},
   "outputs": [
    {
     "name": "stderr",
     "output_type": "stream",
     "text": [
      "                                                                                \r"
     ]
    },
    {
     "name": "stdout",
     "output_type": "stream",
     "text": [
      "+-------------+-----+\n",
      "| country_name|count|\n",
      "+-------------+-----+\n",
      "|        China| 1812|\n",
      "|        India| 1733|\n",
      "|United States|  461|\n",
      "|    Indonesia|  336|\n",
      "|     Pakistan|  315|\n",
      "|       Brazil|  264|\n",
      "|      Nigeria|  255|\n",
      "|   Bangladesh|  227|\n",
      "|       Russia|  185|\n",
      "|       Mexico|  183|\n",
      "+-------------+-----+\n",
      "only showing top 10 rows\n",
      "\n"
     ]
    }
   ],
   "source": [
    "groups = agents.groupby(agents.country_name).count()\n",
    "groups.orderBy(\"count\", ascending=False).show(10)"
   ]
  },
  {
   "cell_type": "code",
   "execution_count": 3,
   "id": "b631bea5",
   "metadata": {},
   "outputs": [
    {
     "name": "stderr",
     "output_type": "stream",
     "text": [
      "                                                                                \r"
     ]
    },
    {
     "name": "stdout",
     "output_type": "stream",
     "text": [
      "+-------+----------+\n",
      "|name   |department|\n",
      "+-------+----------+\n",
      "|James  |Sales     |\n",
      "|Michael|Sales     |\n",
      "|Robert |Sales     |\n",
      "|Maria  |Finance   |\n",
      "|Raman  |Finance   |\n",
      "+-------+----------+\n",
      "only showing top 5 rows\n",
      "\n"
     ]
    }
   ],
   "source": [
    "# Create DataFrame\n",
    "employees_data_1 = [(\"James\",\"Sales\"),\n",
    "(\"Michael\",\"Sales\"),\n",
    "(\"Robert\",\"Sales\"),\n",
    "(\"Maria\",\"Finance\"),\n",
    "(\"Raman\",\"Finance\"),\n",
    "(\"Scott\",\"Finance\"),\n",
    "(\"Jen\",\"Finance\"),\n",
    "(\"Jeff\",\"Marketing\"),\n",
    "(\"Kumar\",\"Marketing\")\n",
    "]\n",
    "employees_data_2 = [(\"James\",90000,34),\n",
    "(\"Michael\",86000,56),\n",
    "(\"Robert\",81000,30),\n",
    "(\"Maria\",90000,24),\n",
    "(\"Raman\",99000,40),\n",
    "(\"Scott\",83000,36),\n",
    "(\"Jen\",79000,53),\n",
    "(\"Jeff\",80000,25),\n",
    "(\"Kumar\",91000,50)\n",
    "]\n",
    "schema_1 = [\"name\",\"department\"]\n",
    "schema_2 = [\"name\",\"salary\",\"age\"]\n",
    "df_1 = spark.createDataFrame(data=employees_data_1, schema = schema_1)\n",
    "df_2 = spark.createDataFrame(data=employees_data_2, schema = schema_2)\n",
    "df_1.show(5,truncate=False)"
   ]
  },
  {
   "cell_type": "code",
   "execution_count": 4,
   "id": "71a4e9a1",
   "metadata": {},
   "outputs": [
    {
     "name": "stdout",
     "output_type": "stream",
     "text": [
      "+-------+------+---+\n",
      "|name   |salary|age|\n",
      "+-------+------+---+\n",
      "|James  |90000 |34 |\n",
      "|Michael|86000 |56 |\n",
      "|Robert |81000 |30 |\n",
      "|Maria  |90000 |24 |\n",
      "|Raman  |99000 |40 |\n",
      "+-------+------+---+\n",
      "only showing top 5 rows\n",
      "\n"
     ]
    }
   ],
   "source": [
    "df_2.show(5,truncate=False)"
   ]
  },
  {
   "cell_type": "code",
   "execution_count": 5,
   "id": "49235dc0",
   "metadata": {
    "scrolled": true
   },
   "outputs": [
    {
     "name": "stderr",
     "output_type": "stream",
     "text": [
      "                                                                                \r"
     ]
    },
    {
     "name": "stdout",
     "output_type": "stream",
     "text": [
      "+-------+----------+------+---+\n",
      "|   name|department|salary|age|\n",
      "+-------+----------+------+---+\n",
      "|  James|     Sales| 90000| 34|\n",
      "|   Jeff| Marketing| 80000| 25|\n",
      "|    Jen|   Finance| 79000| 53|\n",
      "|  Kumar| Marketing| 91000| 50|\n",
      "|  Maria|   Finance| 90000| 24|\n",
      "|Michael|     Sales| 86000| 56|\n",
      "|  Raman|   Finance| 99000| 40|\n",
      "| Robert|     Sales| 81000| 30|\n",
      "|  Scott|   Finance| 83000| 36|\n",
      "+-------+----------+------+---+\n",
      "\n"
     ]
    }
   ],
   "source": [
    "df = df_1.join(df_2, df_1.name == df_2.name, 'outer').select(df_1.name,df_1.department, df_2.salary, df_2.age)  \n",
    "df.show()"
   ]
  },
  {
   "cell_type": "code",
   "execution_count": 6,
   "id": "098fe6f1",
   "metadata": {},
   "outputs": [
    {
     "name": "stderr",
     "output_type": "stream",
     "text": [
      "[Stage 10:=============================>                            (1 + 1) / 2]\r"
     ]
    },
    {
     "name": "stdout",
     "output_type": "stream",
     "text": [
      "+-------+----------+------+\n",
      "|   name|department|salary|\n",
      "+-------+----------+------+\n",
      "|  James|     Sales| 90000|\n",
      "|   Jeff| Marketing| 80000|\n",
      "|    Jen|   Finance| 79000|\n",
      "|  Kumar| Marketing| 91000|\n",
      "|  Maria|   Finance| 90000|\n",
      "|Michael|     Sales| 86000|\n",
      "|  Raman|   Finance| 99000|\n",
      "| Robert|     Sales| 81000|\n",
      "|  Scott|   Finance| 83000|\n",
      "+-------+----------+------+\n",
      "\n"
     ]
    },
    {
     "name": "stderr",
     "output_type": "stream",
     "text": [
      "\r",
      "                                                                                \r"
     ]
    }
   ],
   "source": [
    "df=df.drop('age')\n",
    "df.show()"
   ]
  },
  {
   "cell_type": "code",
   "execution_count": 7,
   "id": "956dab8e",
   "metadata": {},
   "outputs": [
    {
     "name": "stderr",
     "output_type": "stream",
     "text": [
      "[Stage 15:=============================>                            (1 + 1) / 2]\r"
     ]
    },
    {
     "name": "stdout",
     "output_type": "stream",
     "text": [
      "+-------+----------+------+-----------------+\n",
      "|   name|department|salary|   salaryPerMonth|\n",
      "+-------+----------+------+-----------------+\n",
      "|  James|     Sales| 90000|           7500.0|\n",
      "|   Jeff| Marketing| 80000|6666.666666666667|\n",
      "|    Jen|   Finance| 79000|6583.333333333333|\n",
      "|  Kumar| Marketing| 91000|7583.333333333333|\n",
      "|  Maria|   Finance| 90000|           7500.0|\n",
      "|Michael|     Sales| 86000|7166.666666666667|\n",
      "|  Raman|   Finance| 99000|           8250.0|\n",
      "| Robert|     Sales| 81000|           6750.0|\n",
      "|  Scott|   Finance| 83000|6916.666666666667|\n",
      "+-------+----------+------+-----------------+\n",
      "\n"
     ]
    },
    {
     "name": "stderr",
     "output_type": "stream",
     "text": [
      "\r",
      "                                                                                \r"
     ]
    }
   ],
   "source": [
    "df = df.withColumn('salaryPerMonth', df.salary/12)\n",
    "df.show()"
   ]
  },
  {
   "cell_type": "code",
   "execution_count": 8,
   "id": "34d7229f",
   "metadata": {},
   "outputs": [
    {
     "name": "stderr",
     "output_type": "stream",
     "text": [
      "\r",
      "[Stage 19:>                                                         (0 + 2) / 2]\r",
      "\r",
      "[Stage 20:>                                                         (0 + 2) / 2]\r"
     ]
    },
    {
     "name": "stdout",
     "output_type": "stream",
     "text": [
      "+----------+-----------------+\n",
      "|department|      avg(salary)|\n",
      "+----------+-----------------+\n",
      "|     Sales|85666.66666666667|\n",
      "|   Finance|          87750.0|\n",
      "| Marketing|          85500.0|\n",
      "+----------+-----------------+\n",
      "\n"
     ]
    },
    {
     "name": "stderr",
     "output_type": "stream",
     "text": [
      "\r",
      "                                                                                \r"
     ]
    }
   ],
   "source": [
    "df.groupby(df.department).avg('salary').show()"
   ]
  },
  {
   "cell_type": "code",
   "execution_count": 52,
   "id": "4436547a",
   "metadata": {},
   "outputs": [],
   "source": [
    "import pyspark.sql.functions as f"
   ]
  },
  {
   "cell_type": "code",
   "execution_count": 13,
   "id": "9b4e16c4",
   "metadata": {},
   "outputs": [
    {
     "name": "stderr",
     "output_type": "stream",
     "text": [
      "                                                                                \r"
     ]
    },
    {
     "data": {
      "text/plain": [
       "99000"
      ]
     },
     "execution_count": 13,
     "metadata": {},
     "output_type": "execute_result"
    }
   ],
   "source": [
    "df.agg({\"salary\": \"max\"}).collect()[0][0]"
   ]
  },
  {
   "cell_type": "code",
   "execution_count": 14,
   "id": "7c42e910",
   "metadata": {},
   "outputs": [
    {
     "name": "stderr",
     "output_type": "stream",
     "text": [
      "                                                                                \r"
     ]
    },
    {
     "data": {
      "text/plain": [
       "[Row(max(salary)=99000)]"
      ]
     },
     "execution_count": 14,
     "metadata": {},
     "output_type": "execute_result"
    }
   ],
   "source": [
    "df.agg({\"salary\": \"max\"}).collect()"
   ]
  },
  {
   "cell_type": "code",
   "execution_count": 12,
   "id": "f075034e",
   "metadata": {},
   "outputs": [
    {
     "name": "stderr",
     "output_type": "stream",
     "text": [
      "                                                                                \r"
     ]
    },
    {
     "name": "stdout",
     "output_type": "stream",
     "text": [
      "+-----+----------+------+--------------+\n",
      "| name|department|salary|salaryPerMonth|\n",
      "+-----+----------+------+--------------+\n",
      "|Raman|   Finance| 99000|        8250.0|\n",
      "+-----+----------+------+--------------+\n",
      "\n"
     ]
    }
   ],
   "source": [
    "max_=df.agg({\"salary\": \"max\"}).collect()[0][0]\n",
    "df.where(df.salary==max_).show()"
   ]
  },
  {
   "cell_type": "code",
   "execution_count": null,
   "id": "858b7f64",
   "metadata": {},
   "outputs": [],
   "source": []
  }
 ],
 "metadata": {
  "kernelspec": {
   "display_name": "Python 3 (ipykernel)",
   "language": "python",
   "name": "python3"
  },
  "language_info": {
   "codemirror_mode": {
    "name": "ipython",
    "version": 3
   },
   "file_extension": ".py",
   "mimetype": "text/x-python",
   "name": "python",
   "nbconvert_exporter": "python",
   "pygments_lexer": "ipython3",
   "version": "3.9.13"
  }
 },
 "nbformat": 4,
 "nbformat_minor": 5
}
