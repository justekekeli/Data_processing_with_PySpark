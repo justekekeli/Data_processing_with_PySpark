{
 "cells": [
  {
   "cell_type": "markdown",
   "metadata": {},
   "source": [
    "# Top Heading\n",
    "\n",
    "## Sub heading\n",
    "\n",
    "> block\n",
    "> quote\n",
    "\n",
    "*Italic*\n",
    "**Bold**\n",
    "~line in~\n",
    "\n",
    "- Item 1\n",
    "- Item 2\n",
    "\n",
    "1. Item 1\n",
    "1. Item 2\n",
    "\n",
    "[Marvel](https://en.wikipedia.org/wiki/List_of_Marvel_Cinematic_Universe_films)\n",
    "\n",
    "Look at my code `pip install pandas`\n",
    "\n",
    "A code block as follow\n",
    "```\n",
    "    def foo():\n",
    "        pass\n",
    "```\n",
    "image ![Avatar](avatamr.jpg)"
   ]
  },
  {
   "cell_type": "code",
   "execution_count": 1,
   "metadata": {},
   "outputs": [
    {
     "data": {
      "application/json": {
       "cell": {
        "!": "OSMagics",
        "HTML": "Other",
        "SVG": "Other",
        "bash": "Other",
        "capture": "ExecutionMagics",
        "cmd": "Other",
        "debug": "ExecutionMagics",
        "file": "Other",
        "html": "DisplayMagics",
        "javascript": "DisplayMagics",
        "js": "DisplayMagics",
        "latex": "DisplayMagics",
        "markdown": "DisplayMagics",
        "perl": "Other",
        "prun": "ExecutionMagics",
        "pypy": "Other",
        "python": "Other",
        "python2": "Other",
        "python3": "Other",
        "ruby": "Other",
        "script": "ScriptMagics",
        "sh": "Other",
        "svg": "DisplayMagics",
        "sx": "OSMagics",
        "system": "OSMagics",
        "time": "ExecutionMagics",
        "timeit": "ExecutionMagics",
        "writefile": "OSMagics"
       },
       "line": {
        "alias": "OSMagics",
        "alias_magic": "BasicMagics",
        "autoawait": "AsyncMagics",
        "autocall": "AutoMagics",
        "automagic": "AutoMagics",
        "autosave": "KernelMagics",
        "bookmark": "OSMagics",
        "cd": "OSMagics",
        "clear": "KernelMagics",
        "cls": "KernelMagics",
        "colors": "BasicMagics",
        "conda": "PackagingMagics",
        "config": "ConfigMagics",
        "connect_info": "KernelMagics",
        "copy": "Other",
        "ddir": "Other",
        "debug": "ExecutionMagics",
        "dhist": "OSMagics",
        "dirs": "OSMagics",
        "doctest_mode": "BasicMagics",
        "echo": "Other",
        "ed": "Other",
        "edit": "KernelMagics",
        "env": "OSMagics",
        "gui": "BasicMagics",
        "hist": "Other",
        "history": "HistoryMagics",
        "killbgscripts": "ScriptMagics",
        "ldir": "Other",
        "less": "KernelMagics",
        "load": "CodeMagics",
        "load_ext": "ExtensionMagics",
        "loadpy": "CodeMagics",
        "logoff": "LoggingMagics",
        "logon": "LoggingMagics",
        "logstart": "LoggingMagics",
        "logstate": "LoggingMagics",
        "logstop": "LoggingMagics",
        "ls": "Other",
        "lsmagic": "BasicMagics",
        "macro": "ExecutionMagics",
        "magic": "BasicMagics",
        "matplotlib": "PylabMagics",
        "mkdir": "Other",
        "more": "KernelMagics",
        "notebook": "BasicMagics",
        "page": "BasicMagics",
        "pastebin": "CodeMagics",
        "pdb": "ExecutionMagics",
        "pdef": "NamespaceMagics",
        "pdoc": "NamespaceMagics",
        "pfile": "NamespaceMagics",
        "pinfo": "NamespaceMagics",
        "pinfo2": "NamespaceMagics",
        "pip": "PackagingMagics",
        "popd": "OSMagics",
        "pprint": "BasicMagics",
        "precision": "BasicMagics",
        "prun": "ExecutionMagics",
        "psearch": "NamespaceMagics",
        "psource": "NamespaceMagics",
        "pushd": "OSMagics",
        "pwd": "OSMagics",
        "pycat": "OSMagics",
        "pylab": "PylabMagics",
        "qtconsole": "KernelMagics",
        "quickref": "BasicMagics",
        "recall": "HistoryMagics",
        "rehashx": "OSMagics",
        "reload_ext": "ExtensionMagics",
        "ren": "Other",
        "rep": "Other",
        "rerun": "HistoryMagics",
        "reset": "NamespaceMagics",
        "reset_selective": "NamespaceMagics",
        "rmdir": "Other",
        "run": "ExecutionMagics",
        "save": "CodeMagics",
        "sc": "OSMagics",
        "set_env": "OSMagics",
        "store": "StoreMagics",
        "sx": "OSMagics",
        "system": "OSMagics",
        "tb": "ExecutionMagics",
        "time": "ExecutionMagics",
        "timeit": "ExecutionMagics",
        "unalias": "OSMagics",
        "unload_ext": "ExtensionMagics",
        "who": "NamespaceMagics",
        "who_ls": "NamespaceMagics",
        "whos": "NamespaceMagics",
        "xdel": "NamespaceMagics",
        "xmode": "BasicMagics"
       }
      },
      "text/plain": [
       "Available line magics:\n",
       "%alias  %alias_magic  %autoawait  %autocall  %automagic  %autosave  %bookmark  %cd  %clear  %cls  %colors  %conda  %config  %connect_info  %copy  %ddir  %debug  %dhist  %dirs  %doctest_mode  %echo  %ed  %edit  %env  %gui  %hist  %history  %killbgscripts  %ldir  %less  %load  %load_ext  %loadpy  %logoff  %logon  %logstart  %logstate  %logstop  %ls  %lsmagic  %macro  %magic  %matplotlib  %mkdir  %more  %notebook  %page  %pastebin  %pdb  %pdef  %pdoc  %pfile  %pinfo  %pinfo2  %pip  %popd  %pprint  %precision  %prun  %psearch  %psource  %pushd  %pwd  %pycat  %pylab  %qtconsole  %quickref  %recall  %rehashx  %reload_ext  %ren  %rep  %rerun  %reset  %reset_selective  %rmdir  %run  %save  %sc  %set_env  %store  %sx  %system  %tb  %time  %timeit  %unalias  %unload_ext  %who  %who_ls  %whos  %xdel  %xmode\n",
       "\n",
       "Available cell magics:\n",
       "%%!  %%HTML  %%SVG  %%bash  %%capture  %%cmd  %%debug  %%file  %%html  %%javascript  %%js  %%latex  %%markdown  %%perl  %%prun  %%pypy  %%python  %%python2  %%python3  %%ruby  %%script  %%sh  %%svg  %%sx  %%system  %%time  %%timeit  %%writefile\n",
       "\n",
       "Automagic is ON, % prefix IS NOT needed for line magics."
      ]
     },
     "execution_count": 1,
     "metadata": {},
     "output_type": "execute_result"
    }
   ],
   "source": [
    "%lsmagic"
   ]
  },
  {
   "cell_type": "code",
   "execution_count": 2,
   "metadata": {},
   "outputs": [],
   "source": [
    "%alias?"
   ]
  },
  {
   "cell_type": "code",
   "execution_count": 4,
   "metadata": {},
   "outputs": [
    {
     "name": "stdout",
     "output_type": "stream",
     "text": [
      "611 µs ± 26 µs per loop (mean ± std. dev. of 7 runs, 1,000 loops each)\n"
     ]
    }
   ],
   "source": [
    "%%timeit \n",
    "[x for x in range(10000)]"
   ]
  },
  {
   "cell_type": "code",
   "execution_count": 5,
   "metadata": {},
   "outputs": [
    {
     "name": "stdout",
     "output_type": "stream",
     "text": [
      "Writing hello.py\n"
     ]
    }
   ],
   "source": [
    "%%writefile hello.py\n",
    "def say_hello(name=''):\n",
    "    print(f'Hello {name}')\n",
    "say_hello('Lori')"
   ]
  },
  {
   "cell_type": "code",
   "execution_count": 6,
   "metadata": {},
   "outputs": [
    {
     "name": "stdout",
     "output_type": "stream",
     "text": [
      "Hello Lori\n"
     ]
    }
   ],
   "source": [
    "%run hello.py"
   ]
  },
  {
   "cell_type": "code",
   "execution_count": null,
   "metadata": {},
   "outputs": [],
   "source": []
  }
 ],
 "metadata": {
  "kernel_info": {
   "name": "synapse_pyspark"
  },
  "kernelspec": {
   "display_name": "Python 3 (ipykernel)",
   "language": "python",
   "name": "python3"
  },
  "language_info": {
   "codemirror_mode": {
    "name": "ipython",
    "version": 3
   },
   "file_extension": ".py",
   "mimetype": "text/x-python",
   "name": "python",
   "nbconvert_exporter": "python",
   "pygments_lexer": "ipython3",
   "version": "3.9.13"
  },
  "save_output": true,
  "synapse_widget": {
   "state": {
    "3e0b07ba-1195-45fe-87db-23bd517c4214": {
     "persist_state": {
      "view": {
       "chartOptions": {
        "aggregationType": "sum",
        "categoryFieldKeys": [
         "0"
        ],
        "chartType": "bar",
        "isStacked": false,
        "seriesFieldKeys": [
         "1"
        ]
       },
       "tableOptions": {},
       "type": "details"
      }
     },
     "sync_state": {
      "isSummary": false,
      "language": "scala",
      "table": {
       "rows": [
        {
         "0": "Headsets",
         "1": "3"
        },
        {
         "0": "Wheels",
         "1": "14"
        },
        {
         "0": "Bottom Brackets",
         "1": "3"
        },
        {
         "0": "Touring Frames",
         "1": "18"
        },
        {
         "0": "Mountain Bikes",
         "1": "32"
        },
        {
         "0": "Pedals",
         "1": "7"
        },
        {
         "0": "Derailleurs",
         "1": "2"
        },
        {
         "0": "Chains",
         "1": "1"
        },
        {
         "0": "Pumps",
         "1": "2"
        },
        {
         "0": "Hydration Packs",
         "1": "1"
        },
        {
         "0": "Road Bikes",
         "1": "43"
        },
        {
         "0": "Bottles and Cages",
         "1": "3"
        },
        {
         "0": "Road Frames",
         "1": "33"
        },
        {
         "0": "Forks",
         "1": "3"
        },
        {
         "0": "Vests",
         "1": "3"
        },
        {
         "0": "Brakes",
         "1": "2"
        },
        {
         "0": "Helmets",
         "1": "3"
        },
        {
         "0": "Saddles",
         "1": "9"
        },
        {
         "0": "Tights",
         "1": "3"
        },
        {
         "0": "Jerseys",
         "1": "8"
        },
        {
         "0": "Gloves",
         "1": "6"
        },
        {
         "0": "Panniers",
         "1": "1"
        },
        {
         "0": "Touring Bikes",
         "1": "22"
        },
        {
         "0": "Bike Racks",
         "1": "1"
        },
        {
         "0": "Fenders",
         "1": "1"
        },
        {
         "0": "Caps",
         "1": "1"
        },
        {
         "0": "Lights",
         "1": "3"
        },
        {
         "0": "Cranksets",
         "1": "3"
        },
        {
         "0": "Shorts",
         "1": "7"
        },
        {
         "0": "Locks",
         "1": "1"
        },
        {
         "0": "Bike Stands",
         "1": "1"
        },
        {
         "0": "Bib-Shorts",
         "1": "3"
        },
        {
         "0": "Handlebars",
         "1": "8"
        },
        {
         "0": "Mountain Frames",
         "1": "28"
        },
        {
         "0": "Tires and Tubes",
         "1": "11"
        },
        {
         "0": "Cleaners",
         "1": "1"
        },
        {
         "0": "Socks",
         "1": "4"
        }
       ],
       "schema": [
        {
         "key": "0",
         "name": "Category",
         "type": "string"
        },
        {
         "key": "1",
         "name": "count",
         "type": "bigint"
        }
       ],
       "truncated": false
      }
     },
     "type": "Synapse.DataFrame"
    },
    "846873a7-badd-49d1-952c-f6c2798b1e48": {
     "persist_state": {
      "view": {
       "chartOptions": {
        "aggregationType": "count",
        "categoryFieldKeys": [
         "0"
        ],
        "chartType": "bar",
        "isStacked": false,
        "seriesFieldKeys": [
         "0"
        ]
       },
       "tableOptions": {},
       "type": "details"
      }
     },
     "sync_state": {
      "isSummary": false,
      "language": "scala",
      "table": {
       "rows": [
        {
         "0": "771",
         "1": "Mountain-100 Silver, 38",
         "2": "Mountain Bikes",
         "3": "3399.9900"
        },
        {
         "0": "772",
         "1": "Mountain-100 Silver, 42",
         "2": "Mountain Bikes",
         "3": "3399.9900"
        },
        {
         "0": "773",
         "1": "Mountain-100 Silver, 44",
         "2": "Mountain Bikes",
         "3": "3399.9900"
        },
        {
         "0": "774",
         "1": "Mountain-100 Silver, 48",
         "2": "Mountain Bikes",
         "3": "3399.9900"
        },
        {
         "0": "775",
         "1": "Mountain-100 Black, 38",
         "2": "Mountain Bikes",
         "3": "3374.9900"
        },
        {
         "0": "776",
         "1": "Mountain-100 Black, 42",
         "2": "Mountain Bikes",
         "3": "3374.9900"
        },
        {
         "0": "777",
         "1": "Mountain-100 Black, 44",
         "2": "Mountain Bikes",
         "3": "3374.9900"
        },
        {
         "0": "778",
         "1": "Mountain-100 Black, 48",
         "2": "Mountain Bikes",
         "3": "3374.9900"
        },
        {
         "0": "779",
         "1": "Mountain-200 Silver, 38",
         "2": "Mountain Bikes",
         "3": "2319.9900"
        },
        {
         "0": "780",
         "1": "Mountain-200 Silver, 42",
         "2": "Mountain Bikes",
         "3": "2319.9900"
        }
       ],
       "schema": [
        {
         "key": "0",
         "name": "ProductID",
         "type": "string"
        },
        {
         "key": "1",
         "name": "ProductName",
         "type": "string"
        },
        {
         "key": "2",
         "name": "Category",
         "type": "string"
        },
        {
         "key": "3",
         "name": "ListPrice",
         "type": "string"
        }
       ],
       "truncated": false
      }
     },
     "type": "Synapse.DataFrame"
    }
   },
   "version": "0.1"
  }
 },
 "nbformat": 4,
 "nbformat_minor": 2
}
