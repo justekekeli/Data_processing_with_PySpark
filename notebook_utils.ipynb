{
 "cells": [
  {
   "cell_type": "code",
   "execution_count": null,
   "metadata": {},
   "outputs": [],
   "source": [
    "# Top Heading\n",
    "\n",
    "## Sub heading\n",
    "\n",
    "> block\n",
    "> quote\n",
    "\n",
    "*Italic*\n",
    "**Bold**\n",
    "~line in~\n",
    "\n",
    "- Item 1\n",
    "- Item 2\n",
    "\n",
    "1. Item 1\n",
    "1. Item 2\n",
    "\n",
    "[Marvel](https://en.wikipedia.org/wiki/List_of_Marvel_Cinematic_Universe_films)\n",
    "\n",
    "Look at my code `pip install pandas`\n",
    "\n",
    "A code block as follow\n",
    "```\n",
    "    def foo():\n",
    "        pass\n",
    "```"
   ]
  }
 ],
 "metadata": {
  "kernel_info": {
   "name": "synapse_pyspark"
  },
  "kernelspec": {
   "display_name": "Python 3 (ipykernel)",
   "language": "python",
   "name": "python3"
  },
  "language_info": {
   "codemirror_mode": {
    "name": "ipython",
    "version": 3
   },
   "file_extension": ".py",
   "mimetype": "text/x-python",
   "name": "python",
   "nbconvert_exporter": "python",
   "pygments_lexer": "ipython3",
   "version": "3.9.13"
  },
  "save_output": true,
  "synapse_widget": {
   "state": {
    "3e0b07ba-1195-45fe-87db-23bd517c4214": {
     "persist_state": {
      "view": {
       "chartOptions": {
        "aggregationType": "sum",
        "categoryFieldKeys": [
         "0"
        ],
        "chartType": "bar",
        "isStacked": false,
        "seriesFieldKeys": [
         "1"
        ]
       },
       "tableOptions": {},
       "type": "details"
      }
     },
     "sync_state": {
      "isSummary": false,
      "language": "scala",
      "table": {
       "rows": [
        {
         "0": "Headsets",
         "1": "3"
        },
        {
         "0": "Wheels",
         "1": "14"
        },
        {
         "0": "Bottom Brackets",
         "1": "3"
        },
        {
         "0": "Touring Frames",
         "1": "18"
        },
        {
         "0": "Mountain Bikes",
         "1": "32"
        },
        {
         "0": "Pedals",
         "1": "7"
        },
        {
         "0": "Derailleurs",
         "1": "2"
        },
        {
         "0": "Chains",
         "1": "1"
        },
        {
         "0": "Pumps",
         "1": "2"
        },
        {
         "0": "Hydration Packs",
         "1": "1"
        },
        {
         "0": "Road Bikes",
         "1": "43"
        },
        {
         "0": "Bottles and Cages",
         "1": "3"
        },
        {
         "0": "Road Frames",
         "1": "33"
        },
        {
         "0": "Forks",
         "1": "3"
        },
        {
         "0": "Vests",
         "1": "3"
        },
        {
         "0": "Brakes",
         "1": "2"
        },
        {
         "0": "Helmets",
         "1": "3"
        },
        {
         "0": "Saddles",
         "1": "9"
        },
        {
         "0": "Tights",
         "1": "3"
        },
        {
         "0": "Jerseys",
         "1": "8"
        },
        {
         "0": "Gloves",
         "1": "6"
        },
        {
         "0": "Panniers",
         "1": "1"
        },
        {
         "0": "Touring Bikes",
         "1": "22"
        },
        {
         "0": "Bike Racks",
         "1": "1"
        },
        {
         "0": "Fenders",
         "1": "1"
        },
        {
         "0": "Caps",
         "1": "1"
        },
        {
         "0": "Lights",
         "1": "3"
        },
        {
         "0": "Cranksets",
         "1": "3"
        },
        {
         "0": "Shorts",
         "1": "7"
        },
        {
         "0": "Locks",
         "1": "1"
        },
        {
         "0": "Bike Stands",
         "1": "1"
        },
        {
         "0": "Bib-Shorts",
         "1": "3"
        },
        {
         "0": "Handlebars",
         "1": "8"
        },
        {
         "0": "Mountain Frames",
         "1": "28"
        },
        {
         "0": "Tires and Tubes",
         "1": "11"
        },
        {
         "0": "Cleaners",
         "1": "1"
        },
        {
         "0": "Socks",
         "1": "4"
        }
       ],
       "schema": [
        {
         "key": "0",
         "name": "Category",
         "type": "string"
        },
        {
         "key": "1",
         "name": "count",
         "type": "bigint"
        }
       ],
       "truncated": false
      }
     },
     "type": "Synapse.DataFrame"
    },
    "846873a7-badd-49d1-952c-f6c2798b1e48": {
     "persist_state": {
      "view": {
       "chartOptions": {
        "aggregationType": "count",
        "categoryFieldKeys": [
         "0"
        ],
        "chartType": "bar",
        "isStacked": false,
        "seriesFieldKeys": [
         "0"
        ]
       },
       "tableOptions": {},
       "type": "details"
      }
     },
     "sync_state": {
      "isSummary": false,
      "language": "scala",
      "table": {
       "rows": [
        {
         "0": "771",
         "1": "Mountain-100 Silver, 38",
         "2": "Mountain Bikes",
         "3": "3399.9900"
        },
        {
         "0": "772",
         "1": "Mountain-100 Silver, 42",
         "2": "Mountain Bikes",
         "3": "3399.9900"
        },
        {
         "0": "773",
         "1": "Mountain-100 Silver, 44",
         "2": "Mountain Bikes",
         "3": "3399.9900"
        },
        {
         "0": "774",
         "1": "Mountain-100 Silver, 48",
         "2": "Mountain Bikes",
         "3": "3399.9900"
        },
        {
         "0": "775",
         "1": "Mountain-100 Black, 38",
         "2": "Mountain Bikes",
         "3": "3374.9900"
        },
        {
         "0": "776",
         "1": "Mountain-100 Black, 42",
         "2": "Mountain Bikes",
         "3": "3374.9900"
        },
        {
         "0": "777",
         "1": "Mountain-100 Black, 44",
         "2": "Mountain Bikes",
         "3": "3374.9900"
        },
        {
         "0": "778",
         "1": "Mountain-100 Black, 48",
         "2": "Mountain Bikes",
         "3": "3374.9900"
        },
        {
         "0": "779",
         "1": "Mountain-200 Silver, 38",
         "2": "Mountain Bikes",
         "3": "2319.9900"
        },
        {
         "0": "780",
         "1": "Mountain-200 Silver, 42",
         "2": "Mountain Bikes",
         "3": "2319.9900"
        }
       ],
       "schema": [
        {
         "key": "0",
         "name": "ProductID",
         "type": "string"
        },
        {
         "key": "1",
         "name": "ProductName",
         "type": "string"
        },
        {
         "key": "2",
         "name": "Category",
         "type": "string"
        },
        {
         "key": "3",
         "name": "ListPrice",
         "type": "string"
        }
       ],
       "truncated": false
      }
     },
     "type": "Synapse.DataFrame"
    }
   },
   "version": "0.1"
  }
 },
 "nbformat": 4,
 "nbformat_minor": 2
}
